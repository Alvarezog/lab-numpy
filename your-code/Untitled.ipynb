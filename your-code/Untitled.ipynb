{
 "cells": [
  {
   "cell_type": "markdown",
   "id": "15d7b460",
   "metadata": {},
   "source": [
    "1. Import the NUMPY package under the name np."
   ]
  },
  {
   "cell_type": "code",
   "execution_count": 101,
   "id": "8270ce62",
   "metadata": {},
   "outputs": [],
   "source": [
    "import numpy as np"
   ]
  },
  {
   "cell_type": "markdown",
   "id": "96ad734d",
   "metadata": {},
   "source": [
    "2. Print the NUMPY version and the configuration."
   ]
  },
  {
   "cell_type": "code",
   "execution_count": 102,
   "id": "0cfeb6b3",
   "metadata": {},
   "outputs": [
    {
     "data": {
      "text/plain": [
       "'1.21.0'"
      ]
     },
     "execution_count": 102,
     "metadata": {},
     "output_type": "execute_result"
    }
   ],
   "source": [
    "np.__version__"
   ]
  },
  {
   "cell_type": "markdown",
   "id": "4cd3ffe4",
   "metadata": {},
   "source": [
    "3. Generate a 2x3x5 3-dimensional array with random values. Assign the array to variable \"a\"\n",
    " Challenge: there are at least three easy ways that use numpy to generate random arrays. How many ways can you find?"
   ]
  },
  {
   "cell_type": "code",
   "execution_count": 103,
   "id": "47674bd7",
   "metadata": {},
   "outputs": [],
   "source": [
    "a = np.random.random((2,3,5))"
   ]
  },
  {
   "cell_type": "markdown",
   "id": "b61ed730",
   "metadata": {},
   "source": [
    "4. Print a."
   ]
  },
  {
   "cell_type": "code",
   "execution_count": 104,
   "id": "5629a5e0",
   "metadata": {},
   "outputs": [
    {
     "name": "stdout",
     "output_type": "stream",
     "text": [
      "[[[0.32006213 0.81682636 0.22023512 0.29976826 0.14618169]\n",
      "  [0.31435891 0.51277757 0.71763541 0.63849983 0.86980389]\n",
      "  [0.43977909 0.8675049  0.9200685  0.28979212 0.81724448]]\n",
      "\n",
      " [[0.21057554 0.87264757 0.96337421 0.07469816 0.16339299]\n",
      "  [0.37192024 0.95209835 0.86219917 0.39180284 0.15501437]\n",
      "  [0.07198614 0.44839743 0.24831953 0.68475321 0.69380996]]]\n"
     ]
    }
   ],
   "source": [
    "print(a)"
   ]
  },
  {
   "cell_type": "markdown",
   "id": "0e874de3",
   "metadata": {},
   "source": [
    "5. Create a 5x2x3 3-dimensional array with all values equaling 1.\n",
    "Assign the array to variable \"b\""
   ]
  },
  {
   "cell_type": "code",
   "execution_count": 105,
   "id": "d4f305fa",
   "metadata": {},
   "outputs": [],
   "source": [
    "b = np.ones((5,2,3))"
   ]
  },
  {
   "cell_type": "markdown",
   "id": "bfa23dca",
   "metadata": {},
   "source": [
    "6. Print b."
   ]
  },
  {
   "cell_type": "code",
   "execution_count": 106,
   "id": "c820707f",
   "metadata": {},
   "outputs": [
    {
     "name": "stdout",
     "output_type": "stream",
     "text": [
      "[[[1. 1. 1.]\n",
      "  [1. 1. 1.]]\n",
      "\n",
      " [[1. 1. 1.]\n",
      "  [1. 1. 1.]]\n",
      "\n",
      " [[1. 1. 1.]\n",
      "  [1. 1. 1.]]\n",
      "\n",
      " [[1. 1. 1.]\n",
      "  [1. 1. 1.]]\n",
      "\n",
      " [[1. 1. 1.]\n",
      "  [1. 1. 1.]]]\n"
     ]
    }
   ],
   "source": [
    "print(b)"
   ]
  },
  {
   "cell_type": "markdown",
   "id": "92742dfc",
   "metadata": {},
   "source": [
    "7. Do a and b have the same size? How do you prove that in Python code?"
   ]
  },
  {
   "cell_type": "code",
   "execution_count": 107,
   "id": "b65a8c0b",
   "metadata": {},
   "outputs": [
    {
     "data": {
      "text/plain": [
       "True"
      ]
     },
     "execution_count": 107,
     "metadata": {},
     "output_type": "execute_result"
    }
   ],
   "source": [
    "if a.size == b.size:\n",
    "    x = True \n",
    "else:\n",
    "    x = False\n",
    "\n",
    "x"
   ]
  },
  {
   "cell_type": "markdown",
   "id": "501250af",
   "metadata": {},
   "source": [
    "8. Are you able to add a and b? Why or why not?"
   ]
  },
  {
   "cell_type": "code",
   "execution_count": 108,
   "id": "c98aa2b5",
   "metadata": {},
   "outputs": [
    {
     "ename": "ValueError",
     "evalue": "operands could not be broadcast together with shapes (2,3,5) (5,2,3) ",
     "output_type": "error",
     "traceback": [
      "\u001b[1;31m---------------------------------------------------------------------------\u001b[0m",
      "\u001b[1;31mValueError\u001b[0m                                Traceback (most recent call last)",
      "\u001b[1;32m<ipython-input-108-bd58363a63fc>\u001b[0m in \u001b[0;36m<module>\u001b[1;34m\u001b[0m\n\u001b[1;32m----> 1\u001b[1;33m \u001b[0ma\u001b[0m \u001b[1;33m+\u001b[0m \u001b[0mb\u001b[0m\u001b[1;33m\u001b[0m\u001b[1;33m\u001b[0m\u001b[0m\n\u001b[0m",
      "\u001b[1;31mValueError\u001b[0m: operands could not be broadcast together with shapes (2,3,5) (5,2,3) "
     ]
    }
   ],
   "source": [
    "a + b"
   ]
  },
  {
   "cell_type": "code",
   "execution_count": 109,
   "id": "60df649a",
   "metadata": {},
   "outputs": [],
   "source": [
    "# No because a and b have different shapes"
   ]
  },
  {
   "cell_type": "markdown",
   "id": "c8268b0b",
   "metadata": {},
   "source": [
    "9. Transpose b so that it has the same structure of a (i.e. become a 2x3x5 array). Assign the transposed array to varialbe \"c\"."
   ]
  },
  {
   "cell_type": "code",
   "execution_count": 110,
   "id": "b2564f61",
   "metadata": {},
   "outputs": [
    {
     "data": {
      "text/plain": [
       "array([[[1., 1., 1., 1., 1.],\n",
       "        [1., 1., 1., 1., 1.],\n",
       "        [1., 1., 1., 1., 1.]],\n",
       "\n",
       "       [[1., 1., 1., 1., 1.],\n",
       "        [1., 1., 1., 1., 1.],\n",
       "        [1., 1., 1., 1., 1.]]])"
      ]
     },
     "execution_count": 110,
     "metadata": {},
     "output_type": "execute_result"
    }
   ],
   "source": [
    "c = b.reshape(2,3,5)\n",
    "c"
   ]
  },
  {
   "cell_type": "markdown",
   "id": "bc9d3935",
   "metadata": {},
   "source": [
    "10. Try to add a and c. Now it should work. Assign the sum to varialbe \"d\". But why does it work now?"
   ]
  },
  {
   "cell_type": "code",
   "execution_count": 111,
   "id": "86932a00",
   "metadata": {},
   "outputs": [
    {
     "data": {
      "text/plain": [
       "array([[[1.32006213, 1.81682636, 1.22023512, 1.29976826, 1.14618169],\n",
       "        [1.31435891, 1.51277757, 1.71763541, 1.63849983, 1.86980389],\n",
       "        [1.43977909, 1.8675049 , 1.9200685 , 1.28979212, 1.81724448]],\n",
       "\n",
       "       [[1.21057554, 1.87264757, 1.96337421, 1.07469816, 1.16339299],\n",
       "        [1.37192024, 1.95209835, 1.86219917, 1.39180284, 1.15501437],\n",
       "        [1.07198614, 1.44839743, 1.24831953, 1.68475321, 1.69380996]]])"
      ]
     },
     "execution_count": 111,
     "metadata": {},
     "output_type": "execute_result"
    }
   ],
   "source": [
    "d = a + c\n",
    "d"
   ]
  },
  {
   "cell_type": "code",
   "execution_count": 112,
   "id": "eaa0e0c6",
   "metadata": {},
   "outputs": [],
   "source": [
    "# Because a and c have the same shape"
   ]
  },
  {
   "cell_type": "markdown",
   "id": "67f62bc3",
   "metadata": {},
   "source": [
    "11. Print a and d. Notice the difference and relation of the two array in terms of the values? Explain."
   ]
  },
  {
   "cell_type": "code",
   "execution_count": 113,
   "id": "74fc810e",
   "metadata": {},
   "outputs": [
    {
     "name": "stdout",
     "output_type": "stream",
     "text": [
      "[[[0.32006213 0.81682636 0.22023512 0.29976826 0.14618169]\n",
      "  [0.31435891 0.51277757 0.71763541 0.63849983 0.86980389]\n",
      "  [0.43977909 0.8675049  0.9200685  0.28979212 0.81724448]]\n",
      "\n",
      " [[0.21057554 0.87264757 0.96337421 0.07469816 0.16339299]\n",
      "  [0.37192024 0.95209835 0.86219917 0.39180284 0.15501437]\n",
      "  [0.07198614 0.44839743 0.24831953 0.68475321 0.69380996]]]\n",
      "[[[1.32006213 1.81682636 1.22023512 1.29976826 1.14618169]\n",
      "  [1.31435891 1.51277757 1.71763541 1.63849983 1.86980389]\n",
      "  [1.43977909 1.8675049  1.9200685  1.28979212 1.81724448]]\n",
      "\n",
      " [[1.21057554 1.87264757 1.96337421 1.07469816 1.16339299]\n",
      "  [1.37192024 1.95209835 1.86219917 1.39180284 1.15501437]\n",
      "  [1.07198614 1.44839743 1.24831953 1.68475321 1.69380996]]]\n"
     ]
    }
   ],
   "source": [
    "print(a)\n",
    "print(d)"
   ]
  },
  {
   "cell_type": "code",
   "execution_count": 114,
   "id": "8bc9de5e",
   "metadata": {},
   "outputs": [],
   "source": [
    "# Every value in d is equal to the value of that smae position in a + 1"
   ]
  },
  {
   "cell_type": "markdown",
   "id": "5bb58da9",
   "metadata": {},
   "source": [
    "12. Multiply a and c. Assign the result to e."
   ]
  },
  {
   "cell_type": "code",
   "execution_count": 115,
   "id": "d231e14f",
   "metadata": {},
   "outputs": [],
   "source": [
    "e = a * c"
   ]
  },
  {
   "cell_type": "markdown",
   "id": "d1ec8aa9",
   "metadata": {},
   "source": [
    "13. Does e equal to a? Why or why not?"
   ]
  },
  {
   "cell_type": "code",
   "execution_count": 116,
   "id": "4aaba273",
   "metadata": {},
   "outputs": [
    {
     "name": "stdout",
     "output_type": "stream",
     "text": [
      "[[[0.32006213 0.81682636 0.22023512 0.29976826 0.14618169]\n",
      "  [0.31435891 0.51277757 0.71763541 0.63849983 0.86980389]\n",
      "  [0.43977909 0.8675049  0.9200685  0.28979212 0.81724448]]\n",
      "\n",
      " [[0.21057554 0.87264757 0.96337421 0.07469816 0.16339299]\n",
      "  [0.37192024 0.95209835 0.86219917 0.39180284 0.15501437]\n",
      "  [0.07198614 0.44839743 0.24831953 0.68475321 0.69380996]]]\n",
      "[[[0.32006213 0.81682636 0.22023512 0.29976826 0.14618169]\n",
      "  [0.31435891 0.51277757 0.71763541 0.63849983 0.86980389]\n",
      "  [0.43977909 0.8675049  0.9200685  0.28979212 0.81724448]]\n",
      "\n",
      " [[0.21057554 0.87264757 0.96337421 0.07469816 0.16339299]\n",
      "  [0.37192024 0.95209835 0.86219917 0.39180284 0.15501437]\n",
      "  [0.07198614 0.44839743 0.24831953 0.68475321 0.69380996]]]\n"
     ]
    }
   ],
   "source": [
    "print(a)\n",
    "print(e)"
   ]
  },
  {
   "cell_type": "code",
   "execution_count": 117,
   "id": "ead685bf",
   "metadata": {},
   "outputs": [],
   "source": [
    "# Yes, beacuse every value of d is jsut themultiplication of the values of a by 1 which should return the same value"
   ]
  },
  {
   "cell_type": "markdown",
   "id": "ebb61b72",
   "metadata": {},
   "source": [
    "14. Identify the max, min, and mean values in d. Assign those values to variables \"d_max\", \"d_min\", and \"d_mean\""
   ]
  },
  {
   "cell_type": "code",
   "execution_count": 118,
   "id": "234e0029",
   "metadata": {},
   "outputs": [
    {
     "name": "stdout",
     "output_type": "stream",
     "text": [
      "1.9633742100348632 1.0719861394107353 1.5118509324146574\n"
     ]
    }
   ],
   "source": [
    "d_max = d.max()\n",
    "d_min = d.min()\n",
    "d_mean = d.mean()\n",
    "\n",
    "print(d_max, d_min, d_mean)"
   ]
  },
  {
   "cell_type": "markdown",
   "id": "c96622ca",
   "metadata": {},
   "source": [
    "15. Now we want to label the values in d. First create an empty array \"f\" with the same shape (i.e. 2x3x5) as d using `np.empty`."
   ]
  },
  {
   "cell_type": "code",
   "execution_count": 119,
   "id": "4bae275b",
   "metadata": {},
   "outputs": [
    {
     "data": {
      "text/plain": [
       "array([[[0.32006213, 0.81682636, 0.22023512, 0.29976826, 0.14618169],\n",
       "        [0.31435891, 0.51277757, 0.71763541, 0.63849983, 0.86980389],\n",
       "        [0.43977909, 0.8675049 , 0.9200685 , 0.28979212, 0.81724448]],\n",
       "\n",
       "       [[0.21057554, 0.87264757, 0.96337421, 0.07469816, 0.16339299],\n",
       "        [0.37192024, 0.95209835, 0.86219917, 0.39180284, 0.15501437],\n",
       "        [0.07198614, 0.44839743, 0.24831953, 0.68475321, 0.69380996]]])"
      ]
     },
     "execution_count": 119,
     "metadata": {},
     "output_type": "execute_result"
    }
   ],
   "source": [
    "f = np.empty([2,3,5])\n",
    "f"
   ]
  },
  {
   "cell_type": "markdown",
   "id": "7199b01b",
   "metadata": {},
   "source": [
    "16. Populate the values in f. For each value in d, if it's larger than d_min but smaller than d_mean, assign 25 to the corresponding value in f.\n",
    "If a value in d is larger than d_mean but smaller than d_max, assign 75 to the corresponding value in f.\n",
    "If a value equals to d_mean, assign 50 to the corresponding value in f.\n",
    "Assign 0 to the corresponding value(s) in f for d_min in d.\n",
    "Assign 100 to the corresponding value(s) in f for d_max in d.\n",
    "In the end, f should have only the following values: 0, 25, 50, 75, and 100.\n",
    "Note: you don't have to use Numpy in this question."
   ]
  },
  {
   "cell_type": "code",
   "execution_count": 121,
   "id": "8b272552",
   "metadata": {},
   "outputs": [
    {
     "name": "stdout",
     "output_type": "stream",
     "text": [
      "[[[ 25.  75.  25.  25.  25.]\n",
      "  [ 25.  75.  75.  75.  75.]\n",
      "  [ 25.  75.  75.  25.  75.]]\n",
      "\n",
      " [[ 25.  75. 100.  25.  25.]\n",
      "  [ 25.  75.  75.  25.  25.]\n",
      "  [  0.  25.  25.  75.  75.]]]\n"
     ]
    }
   ],
   "source": [
    "for i in range(len(d)):\n",
    "    for j in range(3):\n",
    "        for k in range(5):\n",
    "            if d[i][j][k] > d_min and d[i][j][k] < d_mean:\n",
    "                f[i][j][k] = 25\n",
    "            elif d[i][j][k] > d_mean and d[i][j][k] < d_max:\n",
    "                f[i][j][k] = 75\n",
    "            elif d[i][j][k] == d_mean:\n",
    "                f[i][j][k] = 50\n",
    "            elif d[i][j][k] == d_min:\n",
    "                f[i][j][k] = 0\n",
    "            elif d[i][j][k] == d_max:\n",
    "                f[i][j][k] = 100\n",
    "            else:\n",
    "                pass\n",
    "\n",
    "print(f)"
   ]
  }
 ],
 "metadata": {
  "kernelspec": {
   "display_name": "Python 3",
   "language": "python",
   "name": "python3"
  },
  "language_info": {
   "codemirror_mode": {
    "name": "ipython",
    "version": 3
   },
   "file_extension": ".py",
   "mimetype": "text/x-python",
   "name": "python",
   "nbconvert_exporter": "python",
   "pygments_lexer": "ipython3",
   "version": "3.9.5"
  }
 },
 "nbformat": 4,
 "nbformat_minor": 5
}
